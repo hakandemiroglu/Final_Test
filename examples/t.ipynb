{
 "cells": [
  {
   "cell_type": "code",
   "execution_count": null,
   "metadata": {},
   "outputs": [],
   "source": [
    "https://api.lyft.com/v1/cost?start_lat=33.7490&start_lng=-84.3880&end_lat=33.8840&end_lng=-84.5114"
   ]
  },
  {
   "cell_type": "code",
   "execution_count": 1,
   "metadata": {},
   "outputs": [],
   "source": [
    "import requests\n",
    "import json"
   ]
  },
  {
   "cell_type": "code",
   "execution_count": 2,
   "metadata": {},
   "outputs": [],
   "source": [
    "url=\"https://api.lyft.com/v1/cost?start_lat=33.7490&start_lng=-84.3880&end_lat=33.8840&end_lng=-84.5114\""
   ]
  },
  {
   "cell_type": "code",
   "execution_count": 3,
   "metadata": {},
   "outputs": [
    {
     "name": "stdout",
     "output_type": "stream",
     "text": [
      "{'cost_estimates': [{'currency': 'USD', 'ride_type': 'lyft_line', 'display_name': 'Shared', 'primetime_percentage': '0%', 'primetime_confirmation_token': None, 'cost_token': None, 'price_quote_id': 'EL6+m7DI8eGPERoYemVybzoxMjMzODUzODYwNTM2NTczNzU4::Cgdjb3VyaWVy', 'price_group_id': 'EL6+m7DI8eGPERoYemVybzoxMjMzODUzODYwNTM2NTczNzU4', 'is_scheduled_ride': False, 'is_valid_estimate': True, 'estimated_duration_seconds': 1851, 'estimated_distance_miles': 16.31, 'estimated_cost_cents_min': 1500, 'estimated_cost_cents_max': 1800, 'can_request_ride': True}, {'currency': 'USD', 'ride_type': 'lyft', 'display_name': 'Lyft', 'primetime_percentage': '0%', 'primetime_confirmation_token': None, 'cost_token': None, 'price_quote_id': 'EL6+m7DI8eGPERoYemVybzoxMjMzODUzODYwNTM2NTczNzU4::CghzdGFuZGFyZA==', 'price_group_id': 'EL6+m7DI8eGPERoYemVybzoxMjMzODUzODYwNTM2NTczNzU4', 'is_scheduled_ride': False, 'is_valid_estimate': True, 'estimated_duration_seconds': 1851, 'estimated_distance_miles': 16.31, 'estimated_cost_cents_min': 2000, 'estimated_cost_cents_max': 2500, 'can_request_ride': True}, {'currency': 'USD', 'ride_type': 'lyft_plus', 'display_name': 'Lyft XL', 'primetime_percentage': '0%', 'primetime_confirmation_token': None, 'cost_token': None, 'price_quote_id': 'EL6+m7DI8eGPERoYemVybzoxMjMzODUzODYwNTM2NTczNzU4::CgRwbHVz', 'price_group_id': 'EL6+m7DI8eGPERoYemVybzoxMjMzODUzODYwNTM2NTczNzU4', 'is_scheduled_ride': False, 'is_valid_estimate': True, 'estimated_duration_seconds': 1851, 'estimated_distance_miles': 16.31, 'estimated_cost_cents_min': 4200, 'estimated_cost_cents_max': 4900, 'can_request_ride': True}, {'currency': 'USD', 'ride_type': 'lyft_premier', 'display_name': 'Lux', 'primetime_percentage': '0%', 'primetime_confirmation_token': None, 'cost_token': None, 'price_quote_id': 'EL6+m7DI8eGPERoYemVybzoxMjMzODUzODYwNTM2NTczNzU4::CgdwcmVtaXVt', 'price_group_id': 'EL6+m7DI8eGPERoYemVybzoxMjMzODUzODYwNTM2NTczNzU4', 'is_scheduled_ride': False, 'is_valid_estimate': True, 'estimated_duration_seconds': 1851, 'estimated_distance_miles': 16.31, 'estimated_cost_cents_min': 4900, 'estimated_cost_cents_max': 5600, 'can_request_ride': True}, {'currency': 'USD', 'ride_type': 'lyft_lux', 'display_name': 'Lux Black', 'primetime_percentage': '0%', 'primetime_confirmation_token': None, 'cost_token': None, 'price_quote_id': 'EL6+m7DI8eGPERoYemVybzoxMjMzODUzODYwNTM2NTczNzU4::CgNsdXg=', 'price_group_id': 'EL6+m7DI8eGPERoYemVybzoxMjMzODUzODYwNTM2NTczNzU4', 'is_scheduled_ride': False, 'is_valid_estimate': True, 'estimated_duration_seconds': 1851, 'estimated_distance_miles': 16.31, 'estimated_cost_cents_min': 7000, 'estimated_cost_cents_max': 8000, 'can_request_ride': True}, {'currency': 'USD', 'ride_type': 'lyft_luxsuv', 'display_name': 'Lux Black XL', 'primetime_percentage': '0%', 'primetime_confirmation_token': None, 'cost_token': None, 'price_quote_id': 'EL6+m7DI8eGPERoYemVybzoxMjMzODUzODYwNTM2NTczNzU4::CgZsdXhzdXY=', 'price_group_id': 'EL6+m7DI8eGPERoYemVybzoxMjMzODUzODYwNTM2NTczNzU4', 'is_scheduled_ride': False, 'is_valid_estimate': True, 'estimated_duration_seconds': 1851, 'estimated_distance_miles': 16.31, 'estimated_cost_cents_min': 9000, 'estimated_cost_cents_max': 10500, 'can_request_ride': True}]}\n"
     ]
    }
   ],
   "source": [
    "print(requests.get(url).json())"
   ]
  },
  {
   "cell_type": "code",
   "execution_count": null,
   "metadata": {},
   "outputs": [],
   "source": []
  }
 ],
 "metadata": {
  "kernelspec": {
   "display_name": "Python 3",
   "language": "python",
   "name": "python3"
  },
  "language_info": {
   "codemirror_mode": {
    "name": "ipython",
    "version": 3
   },
   "file_extension": ".py",
   "mimetype": "text/x-python",
   "name": "python",
   "nbconvert_exporter": "python",
   "pygments_lexer": "ipython3",
   "version": "3.6.5"
  }
 },
 "nbformat": 4,
 "nbformat_minor": 2
}
